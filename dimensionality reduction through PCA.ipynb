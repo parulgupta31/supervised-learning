{
  "nbformat": 4,
  "nbformat_minor": 0,
  "metadata": {
    "colab": {
      "provenance": []
    },
    "kernelspec": {
      "name": "python3",
      "display_name": "Python 3"
    },
    "language_info": {
      "name": "python"
    }
  },
  "cells": [
    {
      "cell_type": "markdown",
      "source": [
        "PCA Assignment"
      ],
      "metadata": {
        "id": "4symndMIlGjM"
      }
    },
    {
      "cell_type": "code",
      "source": [
        "import numpy\n",
        "from sklearn.model_selection import train_test_split\n",
        "from sklearn.tree import DecisionTreeClassifier\n",
        "from sklearn.metrics import accuracy_score,confusion_matrix\n",
        "\n",
        "from sklearn.decomposition import PCA \n",
        "  \n",
        "import matplotlib.pyplot as plt \n",
        "import seaborn as sns"
      ],
      "metadata": {
        "id": "lZcOyCC1Djmo"
      },
      "execution_count": 21,
      "outputs": []
    },
    {
      "cell_type": "code",
      "source": [
        "from sklearn.datasets import load_digits"
      ],
      "metadata": {
        "id": "tnyeVzxJmzyv"
      },
      "execution_count": 2,
      "outputs": []
    },
    {
      "cell_type": "code",
      "source": [
        "digits = load_digits()"
      ],
      "metadata": {
        "id": "4M9JmgJsmzoT"
      },
      "execution_count": 8,
      "outputs": []
    },
    {
      "cell_type": "markdown",
      "source": [
        "1.PCA is ________?\n",
        "\n",
        "1A. Unsupervised"
      ],
      "metadata": {
        "id": "sh-j3h52ow31"
      }
    },
    {
      "cell_type": "markdown",
      "source": [
        "2.Why is PCA needed in the Data Science field?\n",
        "\n",
        "2D. All of the Above"
      ],
      "metadata": {
        "id": "MngRBX0GowsF"
      }
    },
    {
      "cell_type": "markdown",
      "source": [
        "3.Extract only features and scale the data using StandardScaler(), compute min covariance?\n",
        "\n",
        "3A. -0.5705"
      ],
      "metadata": {
        "id": "SXRg3jXLxssM"
      }
    },
    {
      "cell_type": "markdown",
      "source": [
        "4.Extract only features and scale the data using StandardScaler() , how many eigen_values will\n",
        "be calculated?\n",
        "\n",
        "4B. 64"
      ],
      "metadata": {
        "id": "qUR-Mc0-x5BM"
      }
    },
    {
      "cell_type": "markdown",
      "source": [
        "5.from the above eigenvalues and eigenvectors, create eigenpair and calculate maximum cumulative explained variance?\n",
        "\n",
        "5A. 100"
      ],
      "metadata": {
        "id": "67uWtsUwyftb"
      }
    },
    {
      "cell_type": "markdown",
      "source": [
        "6.Why is cumulative explained variance required before applying PCA?\n",
        "\n",
        "6A. To check the maximum components to be selected"
      ],
      "metadata": {
        "id": "RDQUZ6f5yos7"
      }
    },
    {
      "cell_type": "markdown",
      "source": [
        "7.from the below plot, select the range of components can be selected?\n",
        "\n",
        "7D. 30-40"
      ],
      "metadata": {
        "id": "cPYL2-0d0FTL"
      }
    },
    {
      "cell_type": "markdown",
      "source": [
        "8.Fit the data to PCA and compute the maximum explained_variance_ratio?\n",
        "\n",
        "8A. 0.120"
      ],
      "metadata": {
        "id": "ZkseenEj0Kbh"
      }
    },
    {
      "cell_type": "markdown",
      "source": [
        "9.fit the KMeans model on top of PCA fitted data and find the optimal number of clusters(k-value)?\n",
        "\n",
        "9C. 7-8"
      ],
      "metadata": {
        "id": "0xOEBKVs45ro"
      }
    },
    {
      "cell_type": "markdown",
      "source": [
        "10.Calculate the optimal number of clusters for the data without applying PCA?\n",
        "\n",
        "10D. 8"
      ],
      "metadata": {
        "id": "Jd7o7J8r49yZ"
      }
    },
    {
      "cell_type": "markdown",
      "source": [
        "11.With the help of the above model how many images have been misclassified by the model.\n",
        "\n",
        "11C. 50-60"
      ],
      "metadata": {
        "id": "uLpNhppa8T2W"
      }
    },
    {
      "cell_type": "markdown",
      "source": [
        "12.With the above model how many images are classified as 8.\n",
        "\n",
        "12A. 38"
      ],
      "metadata": {
        "id": "q6pyTw5e9882"
      }
    },
    {
      "cell_type": "markdown",
      "source": [
        "13.Without applying PCA, how much misclassified data are there?\n",
        "\n",
        "13A. 45"
      ],
      "metadata": {
        "id": "Pvf8fJRcAhH7"
      }
    },
    {
      "cell_type": "markdown",
      "source": [
        "14.Which of the following non-zero vector stays parallel after matrix multiplication\n",
        "\n",
        "14B. Eigen Vector"
      ],
      "metadata": {
        "id": "OGE2epeeBr3x"
      }
    },
    {
      "cell_type": "markdown",
      "source": [
        "15.The Output of PCA is always a new representation of data with a lower dimension than the\n",
        "original data representation\n",
        "\n",
        "15A. True"
      ],
      "metadata": {
        "id": "Kg27LVcQBrWV"
      }
    },
    {
      "cell_type": "code",
      "source": [
        "x=digits.data #independent data-- all 64 features\n",
        "y=digits.target #dependnet data-- all the  labels on the images"
      ],
      "metadata": {
        "id": "ekBKu9yuDQwR"
      },
      "execution_count": 10,
      "outputs": []
    },
    {
      "cell_type": "code",
      "source": [
        "from sklearn.preprocessing import StandardScaler\n",
        "# Data Normalization\n",
        "X_std = StandardScaler().fit_transform(x)"
      ],
      "metadata": {
        "id": "4c9JIiT3DGwK"
      },
      "execution_count": 11,
      "outputs": []
    },
    {
      "cell_type": "code",
      "source": [
        "x1=X_std.T\n",
        "x1"
      ],
      "metadata": {
        "colab": {
          "base_uri": "https://localhost:8080/"
        },
        "id": "8NYCT2bNDHO4",
        "outputId": "63adf9b8-14e7-4f7a-ae88-814d9ec2ee03"
      },
      "execution_count": 12,
      "outputs": [
        {
          "output_type": "execute_result",
          "data": {
            "text/plain": [
              "array([[ 0.        ,  0.        ,  0.        , ...,  0.        ,\n",
              "         0.        ,  0.        ],\n",
              "       [-0.33501649, -0.33501649, -0.33501649, ..., -0.33501649,\n",
              "        -0.33501649, -0.33501649],\n",
              "       [-0.04308102, -1.09493684, -1.09493684, ..., -0.88456568,\n",
              "        -0.67419451,  1.00877481],\n",
              "       ...,\n",
              "       [-1.14664746,  0.54856067,  1.56568555, ..., -0.12952258,\n",
              "         0.8876023 ,  0.8876023 ],\n",
              "       [-0.5056698 , -0.5056698 ,  1.6951369 , ..., -0.5056698 ,\n",
              "        -0.5056698 , -0.26113572],\n",
              "       [-0.19600752, -0.19600752, -0.19600752, ..., -0.19600752,\n",
              "        -0.19600752, -0.19600752]])"
            ]
          },
          "metadata": {},
          "execution_count": 12
        }
      ]
    },
    {
      "cell_type": "code",
      "source": [
        "cov_mat = numpy.cov(X_std.T)"
      ],
      "metadata": {
        "id": "INDBy_3KDWtR"
      },
      "execution_count": 16,
      "outputs": []
    },
    {
      "cell_type": "code",
      "source": [
        "eig_vals, eig_vecs = numpy.linalg.eig(cov_mat)#"
      ],
      "metadata": {
        "id": "90m7DIxyDbaE"
      },
      "execution_count": 18,
      "outputs": []
    },
    {
      "cell_type": "code",
      "source": [
        "x_train,x_test,y_train,y_test=train_test_split(X_std,y, train_size=0.8)"
      ],
      "metadata": {
        "id": "4GjwkJYWDqnP"
      },
      "execution_count": 22,
      "outputs": []
    },
    {
      "cell_type": "code",
      "source": [
        "pca = PCA(n_components=20)\n",
        "pca_x_train = pca.fit_transform(x_train)\n",
        "pca_x_test = pca.transform(x_test)#same chnages will ge applied on x test dataset"
      ],
      "metadata": {
        "id": "0dF9H0S3D0z3"
      },
      "execution_count": 23,
      "outputs": []
    },
    {
      "cell_type": "code",
      "source": [
        "rf=DecisionTreeClassifier().fit(pca_x_train,y_train)"
      ],
      "metadata": {
        "id": "jTeRZ4R5ETBS"
      },
      "execution_count": 24,
      "outputs": []
    },
    {
      "cell_type": "code",
      "source": [
        "predicted=rf.predict(pca_x_test)"
      ],
      "metadata": {
        "id": "8xewaeVWEV5l"
      },
      "execution_count": 25,
      "outputs": []
    },
    {
      "cell_type": "code",
      "source": [
        "accuracy_score(predicted,y_test)"
      ],
      "metadata": {
        "colab": {
          "base_uri": "https://localhost:8080/"
        },
        "id": "yqI1yplqEYJP",
        "outputId": "e6c5db42-5133-4703-ae6b-70ef22e8a49d"
      },
      "execution_count": 26,
      "outputs": [
        {
          "output_type": "execute_result",
          "data": {
            "text/plain": [
              "0.825"
            ]
          },
          "metadata": {},
          "execution_count": 26
        }
      ]
    },
    {
      "cell_type": "code",
      "source": [
        "confusion_matrix(predicted, y_test)"
      ],
      "metadata": {
        "colab": {
          "base_uri": "https://localhost:8080/"
        },
        "id": "wklCLCutEdK9",
        "outputId": "90a96bb7-3f98-4f03-a3ed-81a994d1a2a8"
      },
      "execution_count": 27,
      "outputs": [
        {
          "output_type": "execute_result",
          "data": {
            "text/plain": [
              "array([[41,  0,  0,  0,  0,  0,  0,  0,  1,  1],\n",
              "       [ 0, 31,  0,  0,  0,  0,  0,  0,  0,  0],\n",
              "       [ 0,  0, 25,  3,  0,  1,  0,  0,  2,  1],\n",
              "       [ 1,  0,  0, 29,  0,  0,  0,  0,  0,  6],\n",
              "       [ 0,  1,  0,  0, 27,  0,  0,  2,  0,  1],\n",
              "       [ 0,  0,  2,  1,  0, 25,  0,  0,  2,  2],\n",
              "       [ 1,  2,  0,  0,  0,  0, 38,  0,  0,  1],\n",
              "       [ 0,  0,  1,  0,  2,  0,  1, 30,  0,  3],\n",
              "       [ 2,  2,  1,  2,  3,  3,  1,  0, 27,  3],\n",
              "       [ 1,  0,  0,  2,  0,  2,  0,  0,  3, 24]])"
            ]
          },
          "metadata": {},
          "execution_count": 27
        }
      ]
    },
    {
      "cell_type": "code",
      "source": [
        "def get_misclassified_index(y_pred,y_test):\n",
        "    misclassification=[]#help us out to get the misclassified index value\n",
        "    for index,(predicted,actual) in enumerate(zip(y_pred,y_test)):\n",
        "        if predicted!=actual:\n",
        "            misclassification.append(index)\n",
        "            \n",
        "    return misclassification"
      ],
      "metadata": {
        "id": "CBDp3cVLEfeY"
      },
      "execution_count": 28,
      "outputs": []
    },
    {
      "cell_type": "code",
      "source": [
        "misclassification = get_misclassified_index(predicted,y_test)"
      ],
      "metadata": {
        "id": "aQvKSFT6E4KH"
      },
      "execution_count": 36,
      "outputs": []
    },
    {
      "cell_type": "code",
      "source": [
        "len(misclassification)"
      ],
      "metadata": {
        "colab": {
          "base_uri": "https://localhost:8080/"
        },
        "id": "Vt_Uw7k5E7fB",
        "outputId": "0c68e498-1572-4a77-a87a-8b91d7f485b6"
      },
      "execution_count": 37,
      "outputs": [
        {
          "output_type": "execute_result",
          "data": {
            "text/plain": [
              "63"
            ]
          },
          "metadata": {},
          "execution_count": 37
        }
      ]
    },
    {
      "cell_type": "code",
      "source": [
        "rf=DecisionTreeClassifier().fit(x_train,y_train)"
      ],
      "metadata": {
        "id": "49psJR8IE-OM"
      },
      "execution_count": 31,
      "outputs": []
    },
    {
      "cell_type": "code",
      "source": [
        "predicted_1=rf.predict(x_test)"
      ],
      "metadata": {
        "id": "eHM6KKt8FRBW"
      },
      "execution_count": 34,
      "outputs": []
    },
    {
      "cell_type": "code",
      "source": [
        "misclassification_1 = get_misclassified_index(predicted_1,y_test)"
      ],
      "metadata": {
        "id": "9uq2uZdVFWWO"
      },
      "execution_count": 38,
      "outputs": []
    },
    {
      "cell_type": "code",
      "source": [
        "len(misclassification_1)"
      ],
      "metadata": {
        "colab": {
          "base_uri": "https://localhost:8080/"
        },
        "id": "-7wxaYhKFeDS",
        "outputId": "f50cfd19-01e9-4667-d4a2-1389f27e5fb0"
      },
      "execution_count": 39,
      "outputs": [
        {
          "output_type": "execute_result",
          "data": {
            "text/plain": [
              "44"
            ]
          },
          "metadata": {},
          "execution_count": 39
        }
      ]
    },
    {
      "cell_type": "code",
      "source": [],
      "metadata": {
        "id": "wt3UFhG9Fknq"
      },
      "execution_count": null,
      "outputs": []
    }
  ]
}